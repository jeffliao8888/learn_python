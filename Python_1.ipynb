{
  "nbformat": 4,
  "nbformat_minor": 0,
  "metadata": {
    "colab": {
      "name": "Python-1.ipynb",
      "version": "0.3.2",
      "provenance": [],
      "collapsed_sections": [],
      "include_colab_link": true
    },
    "kernelspec": {
      "name": "python3",
      "display_name": "Python 3"
    }
  },
  "cells": [
    {
      "cell_type": "markdown",
      "metadata": {
        "id": "view-in-github",
        "colab_type": "text"
      },
      "source": [
        "<a href=\"https://colab.research.google.com/github/jeffliao8888/learn_python/blob/master/Python_1.ipynb\" target=\"_parent\"><img src=\"https://colab.research.google.com/assets/colab-badge.svg\" alt=\"Open In Colab\"/></a>"
      ]
    },
    {
      "metadata": {
        "id": "9rON9GDCBroa",
        "colab_type": "text"
      },
      "cell_type": "markdown",
      "source": [
        "# Welcome to learning python\n",
        "## 大家一起學 python"
      ]
    },
    {
      "metadata": {
        "id": "dNJjLT4EQ4aF",
        "colab_type": "text"
      },
      "cell_type": "markdown",
      "source": [
        "Let's start by looking at a beginner code."
      ]
    },
    {
      "metadata": {
        "id": "lsaXmfgoBksG",
        "colab_type": "code",
        "colab": {
          "base_uri": "https://localhost:8080/",
          "height": 34
        },
        "outputId": "69a409ff-5d5a-4c50-9d61-478b86f5fd90"
      },
      "cell_type": "code",
      "source": [
        "print(\"Hello world\")"
      ],
      "execution_count": 8,
      "outputs": [
        {
          "output_type": "stream",
          "text": [
            "Hello world\n"
          ],
          "name": "stdout"
        }
      ]
    },
    {
      "metadata": {
        "id": "jTZkN5A6RvcW",
        "colab_type": "text"
      },
      "cell_type": "markdown",
      "source": [
        "We have print function, print(), to print out the message that we want to output to the user.\n",
        "Let's see what other messages the print function can output."
      ]
    },
    {
      "metadata": {
        "id": "Ymv5-qYoRuLG",
        "colab_type": "code",
        "colab": {
          "base_uri": "https://localhost:8080/",
          "height": 153
        },
        "outputId": "fde9205e-37a5-433e-84be-40bd4e56d822"
      },
      "cell_type": "code",
      "source": [
        "i = 10\n",
        "j = 20\n",
        "print(i)\n",
        "print(i, j)\n",
        "print(\"j + i =\",j+i)\n",
        "print(\"j - i =\",j-i)\n",
        "print(\"j * i =\",j*i)\n",
        "print(\"j / i =\",j/i)\n",
        "print(\"j // i =\", j//i)\n",
        "print(\"j ** i =\", j**i)"
      ],
      "execution_count": 11,
      "outputs": [
        {
          "output_type": "stream",
          "text": [
            "10\n",
            "10 20\n",
            "j + i = 30\n",
            "j - i = 10\n",
            "j * i = 200\n",
            "j / i = 2.0\n",
            "j // i = 2\n",
            "j ** i = 10240000000000\n"
          ],
          "name": "stdout"
        }
      ]
    },
    {
      "metadata": {
        "id": "_H6g3f0Utne2",
        "colab_type": "text"
      },
      "cell_type": "markdown",
      "source": [
        "So, what did we just do?\n"
      ]
    },
    {
      "metadata": {
        "id": "dUCH-JNcuH57",
        "colab_type": "code",
        "colab": {}
      },
      "cell_type": "code",
      "source": [
        ""
      ],
      "execution_count": 0,
      "outputs": []
    }
  ]
}